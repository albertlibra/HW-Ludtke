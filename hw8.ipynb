{
 "cells": [
  {
   "cell_type": "markdown",
   "metadata": {},
   "source": [
    "Write a program that finds all of the .jpg files in the\n",
    "current directory, reads each one, performs some\n",
    "sort of image processing with PIL on each, and\n",
    "writes each back to disk with \"_proc\" in its name, ie\n",
    "- image.jpg -> image_proc.jpg "
   ]
  },
  {
   "cell_type": "code",
   "execution_count": 1,
   "metadata": {
    "collapsed": true
   },
   "outputs": [],
   "source": [
    "import os\n",
    "from PIL import Image "
   ]
  },
  {
   "cell_type": "code",
   "execution_count": 48,
   "metadata": {
    "collapsed": false
   },
   "outputs": [],
   "source": [
    "relevant_path = \".\"\n",
    "filenames=[]\n",
    "for fn in os.listdir(relevant_path):\n",
    "    if fn.endswith('.jpg'):\n",
    "        im = Image.open(fn)\n",
    "        im.save((fn.split('.')[0]+'_proc'+'.jpg'),quality=50)"
   ]
  },
  {
   "cell_type": "code",
   "execution_count": null,
   "metadata": {
    "collapsed": true
   },
   "outputs": [],
   "source": []
  }
 ],
 "metadata": {
  "anaconda-cloud": {},
  "kernelspec": {
   "display_name": "Python [default]",
   "language": "python",
   "name": "python3"
  },
  "language_info": {
   "codemirror_mode": {
    "name": "ipython",
    "version": 3
   },
   "file_extension": ".py",
   "mimetype": "text/x-python",
   "name": "python",
   "nbconvert_exporter": "python",
   "pygments_lexer": "ipython3",
   "version": "3.5.2"
  }
 },
 "nbformat": 4,
 "nbformat_minor": 1
}

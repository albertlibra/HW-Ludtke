{
 "cells": [
  {
   "cell_type": "markdown",
   "metadata": {},
   "source": [
    "1.Write a program to print a trig table, with nice formatting\n",
    " and labels on the first \n",
    "row. The columns should be sin(), cos() and tan(). Rows will be the angles (in \n",
    "radians). Cover the range 0 to 2*pi  "
   ]
  },
  {
   "cell_type": "code",
   "execution_count": 56,
   "metadata": {
    "collapsed": false
   },
   "outputs": [
    {
     "name": "stdout",
     "output_type": "stream",
     "text": [
      "               cos         sin         tan         \n",
      "0.00pi        1.00        0.00        0.00\n",
      "0.25pi        0.71        0.71        1.00\n",
      "0.50pi        0.00        1.00   undefined\n",
      "0.75pi       -0.71        0.71       -1.00\n",
      "1.00pi       -1.00        0.00       -0.00\n",
      "1.25pi       -0.71       -0.71        1.00\n",
      "1.50pi       -0.00       -1.00   undefined\n",
      "1.75pi        0.71       -0.71       -1.00\n",
      "2.00pi        1.00       -0.00       -0.00\n"
     ]
    }
   ],
   "source": [
    "from math import *\n",
    "\n",
    "cols=('cos','sin','tan')\n",
    "print(\"{:15s}\".format(''),end=\"\")\n",
    "for col in cols: print(\"{:12s}\".format(col),end=\"\")\n",
    "print(\"\")\n",
    "\n",
    "for row in range(0,9):\n",
    "    print(\"{:4.2f}pi\".format(row/4),end=\"\")\n",
    "    if round(cos(row/4*pi),2)!= 0:\n",
    "        for col in cols:\n",
    "            print(\"{:12.2f}\".format(eval(col)(row/4*pi)),end=\"\")\n",
    "    else:\n",
    "        print(\"{:12.2f}\".format(cos(row/4*pi)),end=\"\")\n",
    "        print(\"{:12.2f}\".format(sin(row/4*pi)),end=\"\")\n",
    "        print(\"{:s}\".format('   undefined'),end=\"\")\n",
    "    print(\"\")"
   ]
  },
  {
   "cell_type": "markdown",
   "metadata": {},
   "source": [
    "2.Write a program that can read 2-column text files containing numbers. \n",
    "Assume the 2 numbers on each line are X and Y coordinates. Compute and print \n",
    "the minimum and maximum x and y value. \n",
    "You should be able to read files \n",
    "containing numbers on each line separated by any whitespace (any number of \n",
    "spaces or tabs). "
   ]
  },
  {
   "cell_type": "code",
   "execution_count": 55,
   "metadata": {
    "collapsed": false
   },
   "outputs": [
    {
     "name": "stdout",
     "output_type": "stream",
     "text": [
      "X: min:1.0 max:552.0\n",
      "Y: min:2.0 max:534.0\n"
     ]
    }
   ],
   "source": [
    "# from sys import argv\n",
    "with open('xy.txt','r') as f:\n",
    "    lines=f.readlines()\n",
    "xvalues=[]\n",
    "yvalues=[]\n",
    "for l in lines:\n",
    "    v=l.split()\n",
    "    if v != []:\n",
    "        xvalues.append(float(v[0]))\n",
    "        yvalues.append(float(v[1]))\n",
    "print(\"X: {} ~ {}\".format(min(xvalues),max(xvalues)))\n",
    "print(\"Y: {} ~ {}\".format(min(yvalues),max(yvalues)))"
   ]
  },
  {
   "cell_type": "code",
   "execution_count": null,
   "metadata": {
    "collapsed": true
   },
   "outputs": [],
   "source": []
  }
 ],
 "metadata": {
  "kernelspec": {
   "display_name": "Python 3",
   "language": "python",
   "name": "python3"
  },
  "language_info": {
   "codemirror_mode": {
    "name": "ipython",
    "version": 3
   },
   "file_extension": ".py",
   "mimetype": "text/x-python",
   "name": "python",
   "nbconvert_exporter": "python",
   "pygments_lexer": "ipython3",
   "version": "3.5.2+"
  }
 },
 "nbformat": 4,
 "nbformat_minor": 2
}

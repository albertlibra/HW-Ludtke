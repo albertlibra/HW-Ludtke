{
 "cells": [
  {
   "cell_type": "code",
   "execution_count": null,
   "metadata": {
    "collapsed": true
   },
   "outputs": [],
   "source": [
    "# 1.\n",
    "#  Ask the user to enter a 1-letter DNA sequence, for example \n",
    "# “CTGGGCCACACTGGAAGAACTGTGTTGGGCCACA\n",
    "# \" \n",
    "# •\n",
    "# Count the number of each nucleotide present in the entered sequence  \n",
    "# and print\n",
    "#  the count  \n",
    "# •\n",
    "# Print\n",
    "#  the reverse complement of the entered sequence \n",
    "# 2.\n",
    "# Write a program to identify the winner of a rock,paper,scissors game. Ask the \n",
    "# user what player 1 picked (rock, paper or scissors), then ask what player 2 \n",
    "# picked. Finally, print the winner (player 1, 2 or tie)"
   ]
  },
  {
   "cell_type": "code",
   "execution_count": 3,
   "metadata": {
    "collapsed": false
   },
   "outputs": [
    {
     "name": "stdout",
     "output_type": "stream",
     "text": [
      "Please enter a 1-letter DNA sequence :CTGGGCCACACTGGAAGAACTGTGTTGGGCCACA\n"
     ]
    }
   ],
   "source": [
    "DNA = input('Please enter a 1-letter DNA sequence :')"
   ]
  },
  {
   "cell_type": "code",
   "execution_count": 18,
   "metadata": {
    "collapsed": false
   },
   "outputs": [
    {
     "name": "stdout",
     "output_type": "stream",
     "text": [
      "C:9 A:8 T:6 G:11\n",
      "TGTGGCCCAACACAGTTCTTCCAGTGTGGCCCAG\n"
     ]
    }
   ],
   "source": [
    "lc=0\n",
    "la=0\n",
    "lt=0\n",
    "lg=0\n",
    "DNA2=[]\n",
    "for letter in DNA:\n",
    "    if letter == 'C':\n",
    "        lc+=1\n",
    "        DNA2.append('G')\n",
    "    if letter == 'A':\n",
    "        la+=1\n",
    "        DNA2.append('T')\n",
    "    if letter == 'T':\n",
    "        lt+=1\n",
    "        DNA2.append('A')\n",
    "    if letter == 'G':\n",
    "        lg+=1\n",
    "        DNA2.append('C')\n",
    "print(\"C:\"+str(lc)+' A:'+str(la)+' T:'+str(lt)+' G:'+str(lg))\n",
    "DNA2.reverse()\n",
    "print(''.join(DNA2))"
   ]
  },
  {
   "cell_type": "code",
   "execution_count": 25,
   "metadata": {
    "collapsed": false
   },
   "outputs": [
    {
     "name": "stdout",
     "output_type": "stream",
     "text": [
      "Player 1: r-rock, p-paper or s-scissors: r\n",
      "Player 2: r-rock, p-paper or s-scissors: r\n",
      "Tie\n"
     ]
    }
   ],
   "source": [
    "player1=input('Player 1: r-rock, p-paper or s-scissors: ')\n",
    "player2=input('Player 2: r-rock, p-paper or s-scissors: ')\n",
    "\n",
    "if player1 == player2:\n",
    "    print(\"Tie\")\n",
    "if player1 == 'p' and player2 == 'r':\n",
    "    print(\"P1 wins\")\n",
    "if player1 == 'r' and player2 == 'p':\n",
    "    print(\"P2 wins\")\n",
    "if player1 == 'r' and player2 == 's':\n",
    "    print(\"P1 wins\")\n",
    "if player1 == 's' and player2 == 'r':\n",
    "    print(\"P2 wins\")\n",
    "if player1 == 's' and player2 == 'p':\n",
    "    print(\"P1 wins\")\n",
    "if player1 == 'p' and player2 == 's':\n",
    "    print(\"P2 wins\")"
   ]
  },
  {
   "cell_type": "code",
   "execution_count": null,
   "metadata": {
    "collapsed": true
   },
   "outputs": [],
   "source": []
  }
 ],
 "metadata": {
  "kernelspec": {
   "display_name": "Python 3",
   "language": "python",
   "name": "python3"
  },
  "language_info": {
   "codemirror_mode": {
    "name": "ipython",
    "version": 3
   },
   "file_extension": ".py",
   "mimetype": "text/x-python",
   "name": "python",
   "nbconvert_exporter": "python",
   "pygments_lexer": "ipython3",
   "version": "3.5.2+"
  }
 },
 "nbformat": 4,
 "nbformat_minor": 2
}

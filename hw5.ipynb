{
 "cells": [
  {
   "cell_type": "markdown",
   "metadata": {},
   "source": [
    "Write a program that retrieves something from the web\n",
    "and processes it in some useful fashion (easier if you\n",
    "find an XML or RSS site). Turn in the program and a\n",
    "brief description of what it retrieves and what you do\n",
    "with the results. "
   ]
  },
  {
   "cell_type": "code",
   "execution_count": 9,
   "metadata": {
    "collapsed": true
   },
   "outputs": [],
   "source": [
    "import feedparser\n",
    "import re"
   ]
  },
  {
   "cell_type": "code",
   "execution_count": 10,
   "metadata": {
    "collapsed": false
   },
   "outputs": [
    {
     "name": "stdout",
     "output_type": "stream",
     "text": [
      "Today's top 10 news from CNN\n",
      "1 Some Republicans resist Trump ban\n",
      "Republican Sens. John McCain of Arizona and Lindsey Graham of South Carolina broke the GOP silence on Capitol Hill on Sunday to issue a scathing condemnation of President Donald Trump's ban on travel to the United States from seven Muslim-majority countries.\n",
      "    \n",
      "2 Fareed: Trump's travel ban is 'fear mongering'\n",
      "Fareed gives his take on why Trump's executive order on immigration is \"fear mongering\" that risks destroying the US's reputation as a beacon of hope.\n",
      "    \n",
      "3 'This is not a Muslim ban'\n",
      "President Trump defended the new executive order on extreme vetting, saying in a statement: \"We will continue to show compassion to those fleeing oppression, but we will do while protecting our own citizens and voters.\"\n",
      "    \n",
      "4 The ban that descended into chaos: What we know\n",
      "President Donald Trump issued an executive order banning travel from seven Muslim majority countries. The move has been met with street protests across America and legal challenges.\n",
      "    \n",
      "5 How many fatal terror attacks have refugees carried out in the US? None\n",
      "Donald Trump first introduced the idea of a Muslim travel ban in December 2015, shortly after Syed Rizwan Farook and his wife, Tashfeen Malik, shot and killed 14 people in San Bernardino, California.\n",
      "    \n",
      "6 WH discussing asking foreign visitors for social media info\n",
      "Amid the chaos and confusion of President Donald Trump's new executive order on immigration and refugees, sources tell CNN that White House policy director Stephen Miller spoke with officials of the State Department, Customs and Border Patrol, Department of Homeland Security and others to tell them that the President is deeply committed to the executive order and the public is firmly behind it -- urging them not to get distracted by what he described as hysterical voices on TV.\n",
      "    \n",
      "7 5-year-old detained at airport\n",
      "A mother was separated from her 5-year-old son at Washington Dulles International Airport after President Trump's executive order that banned travel to seven Muslim-majority countries.\n",
      "    \n",
      "8 Trump's immigration ban triggers panic at universities\n",
      "For U.S. university students from the seven countries in Trump's immigration ban, horror has set in.\n",
      "    \n",
      "9 Opinion: Trump team incompetent, making US less safe\n",
      "There is nothing about President Donald J. Trump's executive order on refugees that makes us safer or more secure.  As my CNN colleague Peter Bergen reminds us: \"All the lethal acts of jihadist terrorism in the States since 9/11 have been carried out by American citizens or legal residents, and none of them have been the work of Syrian refugees.\"\n",
      "    \n",
      "10 Protesters storm airports nationwide\n",
      "People gathered at airports around the country to protest President Trump's immigration ban from seven Muslim-majority countries.\n",
      "    \n"
     ]
    }
   ],
   "source": [
    "cnn=feedparser.parse('http://rss.cnn.com/rss/cnn_topstories.rss')\n",
    "\n",
    "\n",
    "print(\"Today's top 10 news from CNN\")\n",
    "\n",
    "for i in range(10):\n",
    "    print(i+1,cnn['entries'][i]['title'])\n",
    "    print(re.sub('<[^<]+?>', '', cnn['entries'][i]['summary']).strip('\\n'))"
   ]
  }
 ],
 "metadata": {
  "anaconda-cloud": {},
  "kernelspec": {
   "display_name": "Python [default]",
   "language": "python",
   "name": "python3"
  },
  "language_info": {
   "codemirror_mode": {
    "name": "ipython",
    "version": 3
   },
   "file_extension": ".py",
   "mimetype": "text/x-python",
   "name": "python",
   "nbconvert_exporter": "python",
   "pygments_lexer": "ipython3",
   "version": "3.5.2"
  }
 },
 "nbformat": 4,
 "nbformat_minor": 1
}

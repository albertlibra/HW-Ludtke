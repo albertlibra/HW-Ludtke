{
 "cells": [
  {
   "cell_type": "markdown",
   "metadata": {},
   "source": [
    "Write a program that retrieves something from the web \n",
    "and processes it in some useful fashion (easier if you \n",
    "find an XML or RSS site). Turn in the program and a \n",
    "brief description of what it retrieves and \n",
    "what you do \n",
    "with the results. "
   ]
  },
  {
   "cell_type": "code",
   "execution_count": 86,
   "metadata": {
    "collapsed": true
   },
   "outputs": [],
   "source": [
    "import feedparser\n",
    "import re\n",
    "import urllib\n",
    "from xml.etree import ElementTree as etree"
   ]
  },
  {
   "cell_type": "code",
   "execution_count": 23,
   "metadata": {
    "collapsed": true
   },
   "outputs": [],
   "source": [
    "cnn=feedparser.parse('http://rss.cnn.com/rss/cnn_topstories.rss')"
   ]
  },
  {
   "cell_type": "code",
   "execution_count": 89,
   "metadata": {
    "collapsed": true
   },
   "outputs": [],
   "source": [
    "with urllib.request.urlopen('http://rss.cnn.com/rss/cnn_topstories.rss') as cnn2:\n",
    "    cnn2=cnn2.read()"
   ]
  },
  {
   "cell_type": "code",
   "execution_count": 90,
   "metadata": {
    "collapsed": false
   },
   "outputs": [],
   "source": [
    "cnn2_root = etree.fromstring(cnn2)"
   ]
  },
  {
   "cell_type": "code",
   "execution_count": 119,
   "metadata": {
    "collapsed": false
   },
   "outputs": [
    {
     "name": "stdout",
     "output_type": "stream",
     "text": [
      "channel {}\n"
     ]
    }
   ],
   "source": [
    "for child in cnn2_root:\n",
    "     print(child.tag, child.attrib)"
   ]
  },
  {
   "cell_type": "code",
   "execution_count": 54,
   "metadata": {
    "collapsed": false
   },
   "outputs": [
    {
     "name": "stdout",
     "output_type": "stream",
     "text": [
      "Today's top 10 news from CNN\n",
      "1 Trump made news on torture, Russia and Mexico in his first conference\n",
      "President Donald Trump used his first White House news conference Friday to say he is open to a warmer relationship with Russia and underscored his desire for a constructive bond with the United Kingdom, amid questions about the United States' role in the world community.\n",
      "    \n",
      "2 Trump: Defense Secretary can 'override' me on torture\n",
      "President Donald Trump said Friday he will allow his Defense Secretary James Mattis to \"override\" him on torture, an issue on which the two men disagree.\n",
      "    \n",
      "3 Syrian girl reads letter to Trump\n",
      "Bana Alabed, a 7-year-old girl who escaped Aleppo in Syria, reads a letter she wrote for President Trump.\n",
      "    \n",
      "4 Sheryl Sandberg criticizes Trump rule on abortion\n",
      "Facebook's Sheryl Sandberg is sharply criticizing President Trump on abortion policy.\n",
      "    \n",
      "5 Theresa May: Donald Trump to make state visit to UK\n",
      "British Prime Minister Theresa May announced that Donald Trump is to make a state visit to the UK, as she sought to cement her relationship with the new US President a week after his inauguration.\n",
      "    \n",
      "6 Trump, Mexican President talk on phone\n",
      "President Donald Trump and Mexican President Enrique Peña Nieto spoke on the phone Friday, a White House official told CNN.\n",
      "    \n",
      "7 Lifting Russian sanctions on the table for Trump-Putin call\n",
      "Lifting US sanctions on Russia will be up for discussion when the two country's leader talk Saturday, a top White House adviser said Friday.\n",
      "    \n",
      "8 Trump plans to sign executive action on refugees\n",
      "Donald Trump is expected to sign up to three executive actions Friday at the Department of Defense, a White House official told CNN, including one limiting the flow of refugees into the United States and instituting what he called \"extreme vetting\" of immigrants on the campaign trail.\n",
      "    \n",
      "9 Poll: 36% approve of Trump's job performance\n",
      "President Donald Trump enters office facing low job approval ratings and skepticism from voters, according to a new Quinnipiac University poll released Thursday.\n",
      "    \n",
      "10 Are there any limits to Trump's presidential power?\n",
      "Law professor Doni Gewirtzman explains the one thing you need to know about Trump's presidential powers.\n",
      "    \n"
     ]
    }
   ],
   "source": [
    "print(\"Today's top 10 news from CNN\")\n",
    "for i in range(10):\n",
    "    print(i+1,cnn['entries'][i]['title'])\n",
    "    print(re.sub('<[^<]+?>', '', cnn['entries'][i]['summary']).strip('\\n'))"
   ]
  },
  {
   "cell_type": "code",
   "execution_count": null,
   "metadata": {
    "collapsed": true
   },
   "outputs": [],
   "source": []
  }
 ],
 "metadata": {
  "kernelspec": {
   "display_name": "Python 3",
   "language": "python",
   "name": "python3"
  },
  "language_info": {
   "codemirror_mode": {
    "name": "ipython",
    "version": 3
   },
   "file_extension": ".py",
   "mimetype": "text/x-python",
   "name": "python",
   "nbconvert_exporter": "python",
   "pygments_lexer": "ipython3",
   "version": "3.5.2+"
  }
 },
 "nbformat": 4,
 "nbformat_minor": 2
}

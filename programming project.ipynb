{
 "cells": [
  {
   "cell_type": "markdown",
   "metadata": {},
   "source": [
    "PDB EM search tool "
   ]
  },
  {
   "cell_type": "code",
   "execution_count": null,
   "metadata": {
    "collapsed": false
   },
   "outputs": [],
   "source": [
    "from matplotlib import pyplot as plt\n",
    "import urllib\n",
    "import numpy as np\n",
    "\n",
    "def queryPDB(year):\n",
    "    queryText = \"\"\"\n",
    "<?xml version=\"1.0\" encoding=\"UTF-8\"?>\n",
    "<orgPdbCompositeQuery version=\"1.0\">\n",
    " <queryRefinement>\n",
    "  <orgPdbQuery>\n",
    "    <version>head</version>\n",
    "    <queryType>org.pdb.query.simple.ExpTypeQuery</queryType>\n",
    "    <description>Experimental Method is ELECTRON MICROSCOPY</description>\n",
    "    <mvStructure.expMethod.value>ELECTRON MICROSCOPY</mvStructure.expMethod.value>\n",
    "  </orgPdbQuery>\n",
    " </queryRefinement>\n",
    " <queryRefinement>\n",
    "   <orgPdbQuery>\n",
    "    <version>head</version>\n",
    "    <queryType>org.pdb.query.simple.ReleaseDateQuery</queryType>\n",
    "    <database_PDB_rev.date.comparator>between</database_PDB_rev.date.comparator>\n",
    "    <database_PDB_rev.date.min>{}</database_PDB_rev.date.min>\n",
    "    <database_PDB_rev.date.max>{}</database_PDB_rev.date.max>\n",
    "    <database_PDB_rev.mod_type.comparator><![CDATA[<]]></database_PDB_rev.mod_type.comparator>\n",
    "    <database_PDB_rev.mod_type.value>1</database_PDB_rev.mod_type.value>\n",
    "  </orgPdbQuery>\n",
    " </queryRefinement>\n",
    "</orgPdbCompositeQuery>\n",
    "\"\"\".format(str(year)+\"-01-01\",str(year)+\"-12-31\")\n",
    "    return queryText\n",
    "    \n",
    "\n",
    "def YearlyGrowthofStructuresSolvedByElectronMicroscopy(start,end):\n",
    "    pdbcount=[]\n",
    "    pdbcounttotal=[]\n",
    "    url = 'http://www.rcsb.org/pdb/rest/search'\n",
    "    for i in range(start,end+1):\n",
    "        req = urllib.request.Request(url, data=queryPDB(i).encode(\"UTF-8\"))\n",
    "        f = urllib.request.urlopen(req)\n",
    "        result = f.read().decode(\"utf-8\") \n",
    "#         if result:\n",
    "#             print (\"Found number of PDB entries:\", result.count('\\n'))\n",
    "        pdbcount.append(result.count('\\n'))\n",
    "        pdbcounttotal.append(sum(pdbcount))\n",
    "\n",
    "    fig, ax = plt.subplots()\n",
    "    ind = np.arange(end-start+1)\n",
    "    b1=ax.bar(ind+0.2, pdbcount, color='green',align='center',width=0.4)\n",
    "    b2=ax.bar(ind-0.2,pdbcounttotal,color='blue',align='center',width=0.4)\n",
    "    \n",
    "    ax.set_xticklabels(np.arange(start,end+1))\n",
    "    ax.set_xticks(ind)\n",
    "#     ax.set_xticks(np.arange(start,end+1))\n",
    "    ax.set_xlabel(\"Year\")\n",
    "    ax.set_ylabel(\"Number\")\n",
    "    ax.set_title('Structures Solved By Electron Microscopy')\n",
    "    ax.legend((b1[0],b2[0]),(\"Yearly\",\"Total\"),loc=2)\n",
    "    # plt.plot(pdbyear,pdbcount)\n",
    "    plt.show()"
   ]
  },
  {
   "cell_type": "code",
   "execution_count": null,
   "metadata": {
    "collapsed": false
   },
   "outputs": [],
   "source": [
    "YearlyGrowthofStructuresSolvedByElectronMicroscopy(2010,2016)"
   ]
  },
  {
   "cell_type": "code",
   "execution_count": null,
   "metadata": {
    "collapsed": false
   },
   "outputs": [],
   "source": [
    "import xml.etree.ElementTree \n",
    "def queryresolution(result):\n",
    "    resolutionlist=[]\n",
    "    url = 'http://www.rcsb.org/pdb/rest/describePDB?structureId={}'.format(','.join(result.split('\\n')).strip(','))\n",
    "    req = urllib.request.Request(url)\n",
    "    f = urllib.request.urlopen(req)\n",
    "    result = f.read().decode(\"utf-8\") \n",
    "    et=xml.etree.ElementTree.fromstring(result)\n",
    "    for child in et:\n",
    "        try:\n",
    "            resolutionlist.append(child.attrib['resolution'])\n",
    "        except:\n",
    "            pass\n",
    "    return resolutionlist"
   ]
  },
  {
   "cell_type": "code",
   "execution_count": null,
   "metadata": {
    "collapsed": true
   },
   "outputs": [],
   "source": [
    "def YearlyGrowthofStructuresSolvedByElectronMicroscopyVsRes(start,end,low,high):\n",
    "    res=[]\n",
    "    url = 'http://www.rcsb.org/pdb/rest/search'\n",
    "    for i in range(start,end+1):\n",
    "        req = urllib.request.Request(url, data=queryPDB(i).encode(\"UTF-8\"))\n",
    "        f = urllib.request.urlopen(req)\n",
    "        result = f.read().decode(\"utf-8\") \n",
    "#         if result:\n",
    "#             print (\"Found number of PDB entries:\", result.count('\\n'))\n",
    "        c=np.asarray(queryresolution(result),dtype='float')\n",
    "#         res.append(((1<=c)&(c<2)).sum())\n",
    "#         res.append(((2<=c)&(c<3)).sum())\n",
    "#         res.append(((3<=c)&(c<4)).sum())\n",
    "#         res.append((4<=c).sum())\n",
    "        res.append((c<low).sum())\n",
    "        res.append(((c>=low)&(c<high)).sum())\n",
    "        res.append((c>=high).sum())\n",
    "    \n",
    "    fig, ax = plt.subplots()\n",
    "    ind = np.arange(end-start+1)\n",
    "    years=len(ind)\n",
    "    b1=ax.bar(ind-0.2, res[::3], color='red',align='center',width = 0.2)\n",
    "    b2=ax.bar(ind, res[1::3], color='yellow',align='center',width = 0.2)\n",
    "    b3=ax.bar(ind+0.2, res[2::3], color='blue',align='center',width = 0.2)\n",
    "#     b4=ax.bar(ind+0.25, res[3::4], color='blue',align='center',width = 0.25)\n",
    "    ax.set_xticklabels(np.arange(start,end+1))\n",
    "    ax.set_xticks(ind)\n",
    "# ax.ticklabel_format(useOffset=False)\n",
    "    ax.set_xlabel('Year')\n",
    "    ax.set_ylabel('Numbers')\n",
    "    ax.legend((b1[0],b2[0],b3[0]),('<{}A'.format(low),'{}~{}A'.format(low,high),'>{}A'.format(high)),loc=2)\n",
    "    ax.set_title('Number of structures vs Resolution')\n",
    "    plt.show()"
   ]
  },
  {
   "cell_type": "code",
   "execution_count": null,
   "metadata": {
    "collapsed": false
   },
   "outputs": [],
   "source": [
    "YearlyGrowthofStructuresSolvedByElectronMicroscopyVsRes(2010,2016,4,6)"
   ]
  },
  {
   "cell_type": "code",
   "execution_count": 1,
   "metadata": {
    "collapsed": true
   },
   "outputs": [],
   "source": [
    "import sys\n",
    "\n",
    "from PyQt5.QtWidgets import QWidget, QPushButton, QApplication\n",
    "from PyQt5.QtCore import QCoreApplication\n",
    "\n",
    "\n",
    "class Example(QWidget):\n",
    "    \n",
    "    def __init__(self):\n",
    "        super().__init__()\n",
    "        \n",
    "        self.initUI()\n",
    "        \n",
    "        \n",
    "    def initUI(self):               \n",
    "        \n",
    "        qbtn = QPushButton('Quit', self)\n",
    "        qbtn.clicked.connect(QCoreApplication.instance().quit)\n",
    "        qbtn.resize(qbtn.sizeHint())\n",
    "        qbtn.move(50, 50)       \n",
    "        \n",
    "        self.setGeometry(300, 300, 250, 150)\n",
    "        self.setWindowTitle('Quit button')    \n",
    "        self.show()\n",
    "        \n",
    "# if __name__ == '__main__':\n",
    "    \n",
    "#     app = QApplication(sys.argv)\n",
    "#     ex = Example()\n",
    "#     sys.exit(app.exec_())  "
   ]
  },
  {
   "cell_type": "code",
   "execution_count": 2,
   "metadata": {
    "collapsed": false
   },
   "outputs": [
    {
     "ename": "SystemExit",
     "evalue": "0",
     "output_type": "error",
     "traceback": [
      "An exception has occurred, use %tb to see the full traceback.\n",
      "\u001b[0;31mSystemExit\u001b[0m\u001b[0;31m:\u001b[0m 0\n"
     ]
    },
    {
     "name": "stderr",
     "output_type": "stream",
     "text": [
      "/home/albert/.local/lib/python3.5/site-packages/IPython/core/interactiveshell.py:2889: UserWarning: To exit: use 'exit', 'quit', or Ctrl-D.\n",
      "  warn(\"To exit: use 'exit', 'quit', or Ctrl-D.\", stacklevel=1)\n"
     ]
    }
   ],
   "source": [
    "app = QApplication(sys.argv)\n",
    "ex =Example()\n",
    "sys.exit(app.exec_())"
   ]
  },
  {
   "cell_type": "code",
   "execution_count": 3,
   "metadata": {
    "collapsed": false
   },
   "outputs": [
    {
     "name": "stdout",
     "output_type": "stream",
     "text": [
      "hre\n"
     ]
    }
   ],
   "source": [
    "print('hre')"
   ]
  },
  {
   "cell_type": "code",
   "execution_count": null,
   "metadata": {
    "collapsed": true
   },
   "outputs": [],
   "source": []
  }
 ],
 "metadata": {
  "anaconda-cloud": {},
  "kernelspec": {
   "display_name": "Python 3",
   "language": "python",
   "name": "python3"
  },
  "language_info": {
   "codemirror_mode": {
    "name": "ipython",
    "version": 3
   },
   "file_extension": ".py",
   "mimetype": "text/x-python",
   "name": "python",
   "nbconvert_exporter": "python",
   "pygments_lexer": "ipython3",
   "version": "3.5.2+"
  }
 },
 "nbformat": 4,
 "nbformat_minor": 1
}

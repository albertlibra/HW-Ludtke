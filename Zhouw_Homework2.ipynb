{
 "cells": [
  {
   "cell_type": "code",
   "execution_count": 72,
   "metadata": {
    "collapsed": false
   },
   "outputs": [
    {
     "name": "stdout",
     "output_type": "stream",
     "text": [
      "m\n",
      "a\n",
      "a\n",
      "k\n",
      "d\n",
      "v\n",
      "k\n"
     ]
    },
    {
     "ename": "SystemExit",
     "evalue": "0",
     "output_type": "error",
     "traceback": [
      "An exception has occurred, use %tb to see the full traceback.\n",
      "\u001b[0;31mSystemExit\u001b[0m\u001b[0;31m:\u001b[0m 0\n"
     ]
    },
    {
     "name": "stderr",
     "output_type": "stream",
     "text": [
      "/home/albert/.local/lib/python3.5/site-packages/IPython/core/interactiveshell.py:2889: UserWarning: To exit: use 'exit', 'quit', or Ctrl-D.\n",
      "  warn(\"To exit: use 'exit', 'quit', or Ctrl-D.\", stacklevel=1)\n"
     ]
    }
   ],
   "source": [
    "# Start with the simple DNA -> Protein translation program we wrote in class today. Let's assume \n",
    "# that we've dealt with identifying a promotor, etc, and that the sequence we're getting is within a \n",
    "# few residues of being the start of a coding region of DNA. However, the exact frame hasn't been \n",
    "# identified, and clearly if we start with a frame shift we'll get the wrong sequence. Modify the \n",
    "# program to identify the correct frame by assuming the first ATG we find represents the beginning \n",
    "# of the coding region, then translate only until a stop codon is found. example: if your program were \n",
    "# given 'gatggcagct aaagacgtaa aatgaaaa' it should produce ‘maakdvk'\n",
    "import sys\n",
    "xlate={\"ttt\":\"f\",\"ttc\":\"f\",\"tta\":\"l\",\"ttg\":\"l\", \n",
    "\"ctt\":\"l\",\"ctc\":\"l\",\"cta\":\"l\",\"ctg\":\"l\",\"att\":\"i\", \n",
    "\"atc\":\"i\",\"ata\":\"i\",\"atg\":\"m\",\"gtt\":\"v\",\"gtc\":\"v\", \n",
    "\"gta\":\"v\",\"gtg\":\"v\",\"tct\":\"s\",\"tcc\":\"s\",\"tca\":\"s\", \n",
    "\"tcg\":\"s\",\"cct\":\"p\",\"ccc\":\"p\",\"cca\":\"p\",\"ccg\":\"p\", \n",
    "\"act\":\"t\",\"acc\":\"t\",\"aca\":\"t\",\"acg\":\"t\",\"gct\":\"a\", \n",
    "\"gcc\":\"a\",\"gca\":\"a\",\"gcg\":\"a\",\"tat\":\"y\",\"tac\":\"y\", \n",
    "\"taa\":\"0\",\"tag\":\"0\",\"cat\":\"h\",\"cac\":\"h\",\"caa\":\"q\", \n",
    "\"cag\":\"q\",\"aat\":\"n\",\"aac\":\"n\",\"aaa\":\"k\",\"aag\":\"k\", \n",
    "\"gat\":\"d\",\"gac\":\"d\",\"gaa\":\"e\",\"gag\":\"e\",\"tgt\":\"c\", \n",
    "\"tgc\":\"c\",\"tga\":\"0\",\"tgg\":\"w\",\"cgt\":\"r\",\"cgc\":\"r\", \n",
    "\"cga\":\"r\",\"cgg\":\"r\",\"agt\":\"s\",\"agc\":\"s\",\"aga\":\"r\", \n",
    "\"agg\":\"r\",\"ggt\":\"g\",\"ggc\":\"g\",\"gga\":\"g\",\"ggg\":\"g\"}\n",
    "fsp='seq'\n",
    "# dna=open(fsp,\"r\").read()\n",
    "dna='gatggcagct aaagacgtaa aatgaaaa'\n",
    "dna=dna.translate(str.maketrans(\"\",\"\",\"0123456789 \\\\\\t\\n\\r\")).lower()\n",
    "out=open(fsp+\"hehe.txt\",\"w\")\n",
    "for i in range(dna.index('atg'),len(dna),3):\n",
    "    triplet=dna[i:i+3]\n",
    "    try: \n",
    "        amino=xlate[triplet]\n",
    "    except:\n",
    "        pass\n",
    "    if amino != '0':\n",
    "#         out.write(amino)\n",
    "        print(amino)\n",
    "    else:\n",
    "        sys.exit(0)\n",
    "out.close()\n"
   ]
  },
  {
   "cell_type": "code",
   "execution_count": 73,
   "metadata": {
    "collapsed": false
   },
   "outputs": [
    {
     "name": "stdout",
     "output_type": "stream",
     "text": [
      "1 83.33333333333334 19700\n",
      "2 82.43055555555556 19483.333333333332\n",
      "3 81.5240162037037 19265.763888888887\n",
      "4 80.61369960455247 19047.28790509259\n",
      "5 79.69959001957145 18827.901604697145\n",
      "6 78.78167164465299 18607.601194716717\n",
      "7 77.85992860983906 18386.38286636137\n",
      "8 76.93434497904673 18164.24279497121\n",
      "9 76.00490474979274 17941.177139950258\n",
      "10 75.07159185291688 17717.18204470005\n",
      "11 74.13439015230402 17492.253636552967\n",
      "12 73.19328344460529 17266.38802670527\n",
      "13 72.24825545895781 17039.581310149875\n",
      "14 71.29928985670348 16811.829565608834\n",
      "15 70.3463702311064 16583.128855465537\n",
      "16 69.38948010706935 16353.475225696642\n",
      "17 68.4286029408488 16122.864705803713\n",
      "18 67.46372211976902 15891.293308744562\n",
      "19 66.4948209619347 15658.75703086433\n",
      "20 65.52188271594277 15425.251851826264\n",
      "21 64.54489056059252 15190.773734542207\n",
      "22 63.563827604595 14955.318625102798\n",
      "23 62.57867688628082 14718.882452707394\n",
      "24 61.589421373306976 14481.461129593674\n",
      "25 60.59604396236242 14243.05055096698\n",
      "26 59.59852747887227 14003.646594929343\n",
      "27 58.5968546767009 13763.245122408216\n",
      "28 57.59100823785383 13521.841977084918\n",
      "29 56.58097077217822 13279.432985322772\n",
      "30 55.566724817062294 13036.01395609495\n",
      "31 54.54825283713339 12791.580680912013\n",
      "32 53.525537223954785 12546.128933749147\n",
      "33 52.49856029572126 12299.654470973102\n",
      "34 51.46730429695344 12052.153031268823\n",
      "35 50.431751398190734 11803.620335565776\n",
      "36 49.3918836956832 11554.052086963968\n",
      "37 48.347683211081886 11303.443970659651\n",
      "38 47.29913189112806 11051.791653870734\n",
      "39 46.246211607341095 10799.090785761862\n",
      "40 45.18890415570502 10545.336997369202\n",
      "41 44.12719125635378 10290.525901524907\n",
      "42 43.06105455325525 10034.65309278126\n",
      "43 41.990475613893814 9777.714147334515\n",
      "44 40.9154359289517 9519.704622948408\n",
      "45 39.835916911988996 9260.620058877359\n",
      "46 38.751899899122286 9000.455975789348\n",
      "47 37.663366148701954 8739.20787568847\n",
      "48 36.57029684098821 8476.87124183717\n",
      "49 35.47267307782566 8213.441538678158\n",
      "50 34.370475882316605 7948.914211755984\n",
      "51 33.26368619849293 7683.284687638301\n",
      "52 32.15228489098664 7416.548373836794\n",
      "53 31.036252744699084 7148.70065872778\n",
      "54 29.915570464468665 6879.736911472479\n",
      "55 28.790218674737282 6609.652481936948\n",
      "56 27.660177919215354 6338.442700611685\n",
      "57 26.52542866054542 6066.1028785309\n",
      "58 25.385951279964356 5792.628307191445\n",
      "59 24.24172607696421 5518.014258471409\n",
      "60 23.09273326895156 5242.255984548374\n",
      "61 21.938952990905523 4965.348717817325\n",
      "62 20.7803652950343 4687.287670808231\n",
      "63 19.616950150430274 4408.0680361032655\n",
      "64 18.448687442723735 4127.684986253696\n",
      "65 17.275556973735082 3846.1336736964195\n",
      "66 16.097538461125644 3563.4092306701546\n",
      "67 14.914611538047001 3279.50676913128\n",
      "68 13.726755752788865 2994.4213806693274\n",
      "69 12.533950568425485 2708.1481364221163\n",
      "70 11.336175362460592 2420.682086990542\n",
      "71 10.133409426470843 2132.0182623530022\n",
      "72 8.925631965747804 1842.151671779473\n",
      "73 7.712822098938419 1551.0773037452207\n",
      "74 6.494958857683996 1258.790125844159\n",
      "75 5.27202118625768 965.2850847018431\n",
      "76 4.043987941200419 670.5571058881008\n",
      "77 2.8108378909554217 374.60109382930113\n",
      "78 1.5725497155010693 77.41193172025658\n",
      "79 0.32910200598232353 -221.01551856424237\n"
     ]
    }
   ],
   "source": [
    "# Write a simplified amortization program, that is, a program that keeps track of how much you still \n",
    "# owe on a loan. We will simplify the math a bit: Assume that each month, the amount increases by \n",
    "# the balance times 1/12 the interest rate and decreases by the amount of the fixed monthly \n",
    "# payment. You should ask the user for the amount of the loan, the annual percentage interest rate, \n",
    "# and the payment amount. For each month, print the payment number, interest for the month, and \n",
    "# the remaining balance on the loan after the payment. Continue to write out new months until the \n",
    "# loan is payed off.\n",
    "loan=20000\n",
    "apr=5.00*0.01\n",
    "monthlypay=300\n",
    "paymentnumber=1\n",
    "balance=loan\n",
    "while balance > 0:\n",
    "    print(paymentnumber,balance/12*apr,balance-monthlypay)\n",
    "    paymentnumber+=1\n",
    "    balance=balance-monthlypay+balance/12*apr\n",
    "    \n",
    "        \n"
   ]
  },
  {
   "cell_type": "code",
   "execution_count": null,
   "metadata": {
    "collapsed": true
   },
   "outputs": [],
   "source": []
  }
 ],
 "metadata": {
  "kernelspec": {
   "display_name": "Python 3",
   "language": "python",
   "name": "python3"
  },
  "language_info": {
   "codemirror_mode": {
    "name": "ipython",
    "version": 3
   },
   "file_extension": ".py",
   "mimetype": "text/x-python",
   "name": "python",
   "nbconvert_exporter": "python",
   "pygments_lexer": "ipython3",
   "version": "3.5.2+"
  }
 },
 "nbformat": 4,
 "nbformat_minor": 2
}

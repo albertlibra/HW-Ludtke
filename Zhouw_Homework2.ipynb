{
 "cells": [
  {
   "cell_type": "code",
   "execution_count": 68,
   "metadata": {
    "collapsed": false
   },
   "outputs": [],
   "source": [
    "import sys\n",
    "xlate={\"ttt\":\"f\",\"ttc\":\"f\",\"tta\":\"l\",\"ttg\":\"l\", \n",
    "\"ctt\":\"l\",\"ctc\":\"l\",\"cta\":\"l\",\"ctg\":\"l\",\"att\":\"i\", \n",
    "\"atc\":\"i\",\"ata\":\"i\",\"atg\":\"m\",\"gtt\":\"v\",\"gtc\":\"v\", \n",
    "\"gta\":\"v\",\"gtg\":\"v\",\"tct\":\"s\",\"tcc\":\"s\",\"tca\":\"s\", \n",
    "\"tcg\":\"s\",\"cct\":\"p\",\"ccc\":\"p\",\"cca\":\"p\",\"ccg\":\"p\", \n",
    "\"act\":\"t\",\"acc\":\"t\",\"aca\":\"t\",\"acg\":\"t\",\"gct\":\"a\", \n",
    "\"gcc\":\"a\",\"gca\":\"a\",\"gcg\":\"a\",\"tat\":\"y\",\"tac\":\"y\", \n",
    "\"taa\":\"0\",\"tag\":\"0\",\"cat\":\"h\",\"cac\":\"h\",\"caa\":\"q\", \n",
    "\"cag\":\"q\",\"aat\":\"n\",\"aac\":\"n\",\"aaa\":\"k\",\"aag\":\"k\", \n",
    "\"gat\":\"d\",\"gac\":\"d\",\"gaa\":\"e\",\"gag\":\"e\",\"tgt\":\"c\", \n",
    "\"tgc\":\"c\",\"tga\":\"0\",\"tgg\":\"w\",\"cgt\":\"r\",\"cgc\":\"r\", \n",
    "\"cga\":\"r\",\"cgg\":\"r\",\"agt\":\"s\",\"agc\":\"s\",\"aga\":\"r\", \n",
    "\"agg\":\"r\",\"ggt\":\"g\",\"ggc\":\"g\",\"gga\":\"g\",\"ggg\":\"g\"}\n",
    "fsp='seq'\n",
    "# dna=open(fsp,\"r\").read()\n",
    "dna='gatggcagct aaagacgtaa aatgaaaa'\n",
    "dna=dna.translate(str.maketrans(\"\",\"\",\"0123456789 \\\\\\t\\n\\r\")).lower()\n",
    "out=open(fsp+\"hehe.txt\",\"w\")\n",
    "for i in range(dna.index('atg'),len(dna),3):\n",
    "    triplet=dna[i:i+3]\n",
    "    try: \n",
    "        amino=xlate[triplet]\n",
    "    except:\n",
    "        pass\n",
    "    if amino != 0:\n",
    "        out.write(amino)\n",
    "out.close()\n"
   ]
  },
  {
   "cell_type": "code",
   "execution_count": null,
   "metadata": {
    "collapsed": true
   },
   "outputs": [],
   "source": []
  }
 ],
 "metadata": {
  "kernelspec": {
   "display_name": "Python 3",
   "language": "python",
   "name": "python3"
  },
  "language_info": {
   "codemirror_mode": {
    "name": "ipython",
    "version": 3
   },
   "file_extension": ".py",
   "mimetype": "text/x-python",
   "name": "python",
   "nbconvert_exporter": "python",
   "pygments_lexer": "ipython3",
   "version": "3.5.2+"
  }
 },
 "nbformat": 4,
 "nbformat_minor": 2
}

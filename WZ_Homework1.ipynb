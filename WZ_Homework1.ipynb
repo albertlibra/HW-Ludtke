{
 "cells": [
  {
   "cell_type": "code",
   "execution_count": 27,
   "metadata": {
    "collapsed": false
   },
   "outputs": [
    {
     "name": "stdout",
     "output_type": "stream",
     "text": [
      "Please input your DNA sequence: CTGGGCCACACTGGAAGAACTGTGTTGGGCCACA\n",
      "The number of each nucleotide present in the entered sequence:\n",
      "A:8 C:9 G:11 T:6\n",
      "The reverse complement of the entered sequence: \n",
      "TGTGGCCCAACACAGTTCTTCCAGTGTGGCCCAG\n"
     ]
    }
   ],
   "source": [
    "# 1.\n",
    "#  Ask the user to enter a 1-letter DNA sequence, for example \n",
    "# “CTGGGCCACACTGGAAGAACTGTGTTGGGCCACA\" \n",
    "# •Count the number of each nucleotide present in the entered sequence  \n",
    "# and print the count  \n",
    "# •Print the reverse complement of the entered sequence \n",
    "\n",
    "\n",
    "DNA = input('Please input your DNA sequence: ').upper()\n",
    "DNA_rc=[]\n",
    "\n",
    "for letter in DNA:\n",
    "    if letter == 'C':\n",
    "        DNA_rc.append('G')\n",
    "    elif letter == 'A':\n",
    "        DNA_rc.append('T')\n",
    "    elif letter == 'T':\n",
    "        DNA_rc.append('A')\n",
    "    elif letter == 'G':\n",
    "        DNA_rc.append('C')\n",
    "    else:\n",
    "        print('Wrong nucleotide')\n",
    "print('The number of each nucleotide present in the entered sequence:')\n",
    "print(\"A:%s C:%s G:%s T:%s\" % (DNA.count('A'),DNA.count('C'),DNA.count('G'),DNA.count('T')))\n",
    "DNA_rc.reverse()\n",
    "print('The reverse complement of the entered sequence: \\n'+''.join(DNA_rc))"
   ]
  },
  {
   "cell_type": "code",
   "execution_count": 28,
   "metadata": {
    "collapsed": false
   },
   "outputs": [
    {
     "name": "stdout",
     "output_type": "stream",
     "text": [
      "please enter: r,p or s for rock,paper and scissors\n",
      "Player 1: r\n",
      "Player 2: r\n",
      "Tie\n"
     ]
    }
   ],
   "source": [
    "# 2.\n",
    "# Write a program to identify the winner of a rock,paper,scissors game. Ask the \n",
    "# user what player 1 picked (rock, paper or scissors), then ask what player 2 \n",
    "# picked. Finally, print the winner (player 1, 2 or tie)\n",
    "print('please enter: r,p or s for rock,paper and scissors')\n",
    "\n",
    "player1=input('Player 1: ')\n",
    "player2=input('Player 2: ')\n",
    "if player1 in ('r','p','s') and player2 in ('r','p','s'):\n",
    "    if player1 == player2:\n",
    "        print(\"Tie\")\n",
    "    elif (player1,player2) in (('r','s'),('s','p'),('p','r')):\n",
    "        print(\"Player 1 wins!\")\n",
    "    else:\n",
    "        print(\"Player 2 wins!\")\n",
    "else:\n",
    "    print('Wrong input')"
   ]
  }
 ],
 "metadata": {
  "kernelspec": {
   "display_name": "Python 3",
   "language": "python",
   "name": "python3"
  },
  "language_info": {
   "codemirror_mode": {
    "name": "ipython",
    "version": 3
   },
   "file_extension": ".py",
   "mimetype": "text/x-python",
   "name": "python",
   "nbconvert_exporter": "python",
   "pygments_lexer": "ipython3",
   "version": "3.5.2+"
  }
 },
 "nbformat": 4,
 "nbformat_minor": 2
}

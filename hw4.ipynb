{
 "cells": [
  {
   "cell_type": "markdown",
   "metadata": {},
   "source": [
    "Download the starter program from the class website. The starter program \n",
    "queries PubMed for articles written by a specific author, and prints the number \n",
    "of publications and number of coauthors. Try the program and understand \n",
    "what it's doing. Use this program as a starting point for the following \n",
    "homework. There are two problems, pick one of the two to do. The second is \n",
    "slightly more difficult than the first: \n",
    "- 1a . Tabulate all of the words present in the article titles of all of the retrieved \n",
    "records. Eliminate common words like \"the\" and \"and\", and print an ordered list of \n",
    "the top 20 occurring words.\n",
    "- 1b. Rather than simply counting the number authors in the retrieved records, \n",
    "tabulate the number of times each coauthor name appears, then print a) the \n",
    "number of coauthors and b) the top 10 coauthors with the joint publication count.  "
   ]
  },
  {
   "cell_type": "code",
   "execution_count": 134,
   "metadata": {
    "collapsed": true
   },
   "outputs": [
    {
     "name": "stdout",
     "output_type": "stream",
     "text": [
      "Enter author name: Ludtke SJ\n",
      "Coauthors: {'Sala R', 'Roseman A', 'Fu C', 'Rudenko G', 'Jensen GJ', 'Miller EJ', 'Rizo J', 'Mei Y', 'Hamilton SL', 'Lagerstedt I', 'Heinrich SU', 'Purcell RH', 'Zhang J', 'Vargas J', 'Kao C', 'Kumar RN', 'Yu Z', 'Yang C', 'Wang Z', 'Irobalieva RN', 'Ubach J', 'Sosnick TR', 'Mann DS', 'Hartman KB', 'Cheng A', 'Short J', 'Sorzano CO', 'Yang L', 'Huang HW', 'Wakil SJ', 'Prasad BV', 'Pan T', 'Peng L', 'Bernard Heymann J', 'Huang Z', 'Sudhof TC', 'Brink J', 'Kouiavskaia D', 'Volkmann N', 'Baker ML', 'Warren J', 'Fioretto C', 'Ko Y', 'Wu Y', 'Wang X', 'Rapoport TA', 'Akey IV', 'Dai W', 'Stokes DL', 'Venien-Bryan C', 'Zechiedrich L', 'Feng Q', 'Whynot A', 'Yu X', 'Weaver SC', 'Lee JM', 'Hegde RS', 'Hill E', 'Bell JM', 'Frydman J', 'Nagayama K', 'Jayaram H', 'Bern M', 'Glaeser RM', 'Serysheva II', 'Potter CS', 'Cheng TC', 'Rixon FJ', 'Jonic S', 'Kirkpatrick DS', 'Steven AC', 'Piret J', 'Foulds CE', 'Chen Z', 'Sitharaman B', 'van Ginkel G', 'Schweikardt T', 'Kriegman DJ', 'Sigworth FJ', 'Mukhopadhyay A', 'Cong Y', 'Feng Z', 'Osborne AR', 'Liu X', 'Heuser JE', 'Oldfield TJ', 'Han M', 'Wilson LJ', 'Heller WT', 'Griffith JD', 'Khant H', 'Henrick K', 'Berman HM', 'Hansen BT', 'Riedl SJ', 'Bare DJ', 'Westbrook J', 'Levitt M', 'Akey CW', 'Wang E', 'Ludtke SJ', 'Dougherty MT', 'Asara JM', 'Westbrook JD', 'Baldwin PR', 'Tran TP', 'Skanland SS', 'Newman RH', 'Redding-Johanson AM', 'Kettlun CS', 'Toth E', 'Passmore LA', 'Mastronarde D', 'Ward K', 'Harroun TA', 'Tsuruta H', 'Courtney HS', 'Berman H', 'Arac D', 'Bammes B', 'Voss NR', 'Barford D', 'Sanz-Garcia E', 'Raytcheva D', 'Rosenthal PB', 'Chen S', 'Dorstyn L', 'Mouche F', 'Subramaniam S', 'Chiu W', 'Best C', 'Kumar S', 'Rees I', 'Song JL', 'Gillard BK', 'Jiang W', 'Baikalov A', 'Woolford D', 'Denison C', 'Chuang DT', 'Delannoy M', 'Chumakov K', 'Wang J', 'Ma J', 'Heymann JB', 'Winn M', 'Bi C', 'Langley E', 'Sali A', 'Acehan D', 'Quiocho FA', 'Merbach AE', 'Chen J', 'Schmid MF', 'Jiang X', 'Chen B', 'Catanese DJ Jr', 'Flanagan J', 'Sahni G', 'Pownall HJ', 'Ma B', 'Ren G', 'Khant HA', 'Patwari S', 'Johnson AE', 'Scheres SH', 'Marabini R', 'Yang CY', 'Lanz RB', 'Lawson CL', 'Sencer S', 'Wriggers W', 'Makhov AM', 'Park E', 'Sun Y', 'Worcester DL', 'Grigorieff N', 'Hryc CF', 'Deisenhofer J', 'Vyas NK', 'Frank J', 'Rosenthal P', 'Eramian D', 'Zhang R', 'Pintilie G', 'Garcia ES', 'Henderson R', 'Schoenmakers RH', 'Chandramouli P', 'Frieden C', 'Schaletzky J', 'Kumar M', 'Tu H', 'Liao HY', 'Bidzhieva B', 'Chen C', 'Ngo QT', 'Afonine PV', 'Hecksel CW', 'Quintana A', 'Carragher B', 'Dallakyan S', 'Yuan S', 'Agard D', 'Agulto L', 'Medalia O', 'Egelman EH', 'Schroder GF', 'Young J', 'Li W', 'de la Rosa-Trevin JM', 'Reissmann S', 'Roseman AM', 'Sergeeva OA', 'Goodyear G', 'Kissell KR', 'Adams PD', 'Pedersen PL', 'Jakana J', 'Downing KH', 'Helm L', 'King JA', 'Laus S', 'Vyas MN', 'Hohn M', 'Gumbart JC', 'Batth TS', 'Patwardhan A', 'Hudson BP', 'Galaz-Montoya JG', 'Grassucci RA', 'Hryc C', 'Douglas NR', 'Nason L', 'Swedlow JR', 'Koeppe RE 2nd', 'Rossmann MG', 'Zhu Y', 'Rosales C', 'Fan G', 'Haase-Pettingell C', 'Meyer AS', 'Estes MK', 'Chen DH', 'Moore WJ', 'Mao Y', 'Chen M', 'Clemons WM Jr', 'Stahlberg H', 'Barker AK', 'Greathouse D', \"O'Malley BW\", 'Tolun G', 'Kikkawa M', 'de Haas F', 'Feng P', 'Spiess C', 'Velankar S', 'Saad A', 'Murray SC', 'Makiya M', 'Pintilie GD', 'Zhang Q', 'Baird NJ', 'Tran LA', 'Fellmann D', 'He K', 'Hu X', 'Harris SA', 'Popova OB', 'Penczek PA', 'Chen X', 'Carazo JM', 'Shi Y', 'Mallick SP', 'Andersen OS', 'Rochat RH', 'Devkota B', 'Zhou ZH', 'Bajaj C', 'Baker MR', 'Gygi SP', 'Gu ZW', 'Topf M', 'Sinyagovskiy PA', 'Dougherty M', 'Fischer ER', 'Menetret JF', 'Mignery GA', 'Fu CJ', 'Shahmoradian SH', 'Moiseenkova-Bell VY', 'Tang G', 'Johnson LN', 'Dai X', 'Hall RJ', 'Fogg JM', 'Kong Y', 'Decker H', 'Yi P', 'Sutthibutpong T', 'Yang H', 'Rusakova I', 'Kleywegt GJ', 'Booth CR', 'Piotrowski AL'}\n",
      "91  matching records\n",
      "306  coauthors\n"
     ]
    }
   ],
   "source": [
    "from Bio import Entrez\n",
    "from Bio import Medline\n",
    "\n",
    "author=input(\"Enter author name: \")\n",
    "\n",
    "# The following line MUST contain your valid email address\n",
    "Entrez.email = \"weijianz@bcm.edu\"     \n",
    "\n",
    "# Do a pubmed query to find all papers by a specific author\n",
    "handle = Entrez.esearch(db=\"pubmed\", term=\"{}[Author]\".format(author), retmax=500)\n",
    "record = Entrez.read(handle)\n",
    "handle.close()\n",
    "\n",
    "# record is a dictionary-like object. IdList is a list of pubmedid numbers matching the query\n",
    "ids=record[\"IdList\"]\n",
    "\n",
    "# fetch all of the records in the list of matching ids\n",
    "handle=Entrez.efetch(db=\"pubmed\",id=tuple(ids),rettype=\"medline\")\n",
    "records = list(Medline.parse(handle))\n",
    "handle.close()\n",
    "\n",
    "# find all unique coauthors\n",
    "# coauth=set()\n",
    "# for r in records: \n",
    "#     coauth.update(r[\"AU\"])\n",
    "\n",
    "# print(\"Coauthors:\",coauth)\n",
    "# print(len(ids),\" matching records\")\n",
    "# print(len(coauth),\" coauthors\")\n"
   ]
  },
  {
   "cell_type": "code",
   "execution_count": 135,
   "metadata": {
    "collapsed": false,
    "scrolled": true
   },
   "outputs": [
    {
     "data": {
      "text/plain": [
       "[('electron', 23),\n",
       " ('structure', 22),\n",
       " ('single', 18),\n",
       " ('cryo', 15),\n",
       " ('particle', 15),\n",
       " ('resolution', 13),\n",
       " ('em', 12),\n",
       " ('cryomicroscopy', 10),\n",
       " ('microscopy', 9),\n",
       " ('channel', 9),\n",
       " ('complex', 8),\n",
       " ('human', 7),\n",
       " ('high', 6),\n",
       " ('revealed', 6),\n",
       " ('membranes', 5),\n",
       " ('into', 5),\n",
       " ('membrane', 5),\n",
       " ('scattering', 5),\n",
       " ('mechanism', 5),\n",
       " ('density', 5)]"
      ]
     },
     "execution_count": 135,
     "metadata": {},
     "output_type": "execute_result"
    }
   ],
   "source": [
    "###1a\n",
    "import re\n",
    "\n",
    "words=[]\n",
    "for i in range(len(records)):\n",
    "    words+=re.findall('\\w+', records[i]['TI'])\n",
    "words=list(map(lambda x:x.lower(),words))\n",
    "\n",
    "removelist=['of','and','or','the','by','in','for','a','at','on','with','an','1']\n",
    "for item in removelist:\n",
    "    while item in words:words.remove(item)\n",
    "\n",
    "from collections import Counter\n",
    "Counter(words).most_common(20)"
   ]
  },
  {
   "cell_type": "code",
   "execution_count": 136,
   "metadata": {
    "collapsed": false
   },
   "outputs": [
    {
     "name": "stdout",
     "output_type": "stream",
     "text": [
      "Coauthors: 306\n",
      "[('Ludtke SJ', 91), ('Chiu W', 54), ('Baker ML', 15), ('Serysheva II', 12), ('Schmid MF', 12), ('Huang HW', 9), ('He K', 9), ('Akey CW', 8), ('Jiang W', 7), ('Cong Y', 7)]\n"
     ]
    }
   ],
   "source": [
    "###1b\n",
    "coauth=set()\n",
    "coauths=[]\n",
    "for r in records: \n",
    "    coauth.update(r[\"AU\"])\n",
    "    coauths+=r['AU']\n",
    "print(\"Coauthors:\",len(coauth))\n",
    "print(Counter(coauths).most_common(10))"
   ]
  },
  {
   "cell_type": "markdown",
   "metadata": {},
   "source": [
    "In an earlier homework you were asked to find the reverse complement of a \n",
    "DNA sequence. Update this program to use BioPython's sequence manipulation \n",
    "capabilities for both the reverse and the complement operations."
   ]
  },
  {
   "cell_type": "code",
   "execution_count": 12,
   "metadata": {
    "collapsed": false
   },
   "outputs": [
    {
     "name": "stdout",
     "output_type": "stream",
     "text": [
      "reverse           : ACACCGGGTTGTGTCAAGAAGGTCACACCGGGTC\n",
      "reverse complement: TGTGGCCCAACACAGTTCTTCCAGTGTGGCCCAG\n"
     ]
    }
   ],
   "source": [
    "DNA=\"CTGGGCCACACTGGAAGAACTGTGTTGGGCCACA\"\n",
    "from Bio.Seq import Seq\n",
    "from Bio.Alphabet import IUPAC\n",
    "my_seq=Seq(DNA,IUPAC.unambiguous_dna)\n",
    "# my_seq.complement()\n",
    "print(\"reverse           : {}\".format(str(my_seq[::-1])))\n",
    "print(\"reverse complement: {}\".format(str(my_seq.reverse_complement())))"
   ]
  }
 ],
 "metadata": {
  "kernelspec": {
   "display_name": "Python 3",
   "language": "python",
   "name": "python3"
  },
  "language_info": {
   "codemirror_mode": {
    "name": "ipython",
    "version": 3
   },
   "file_extension": ".py",
   "mimetype": "text/x-python",
   "name": "python",
   "nbconvert_exporter": "python",
   "pygments_lexer": "ipython3",
   "version": "3.5.2+"
  }
 },
 "nbformat": 4,
 "nbformat_minor": 2
}
